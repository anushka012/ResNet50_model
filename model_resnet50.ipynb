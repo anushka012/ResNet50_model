{
  "nbformat": 4,
  "nbformat_minor": 0,
  "metadata": {
    "colab": {
      "name": "model_resnet50.ipynb",
      "provenance": [],
      "include_colab_link": true
    },
    "kernelspec": {
      "name": "python3",
      "display_name": "Python 3"
    },
    "language_info": {
      "name": "python"
    }
  },
  "cells": [
    {
      "cell_type": "markdown",
      "metadata": {
        "id": "view-in-github",
        "colab_type": "text"
      },
      "source": [
        "<a href=\"https://colab.research.google.com/github/anushka012/ResNet50_model/blob/main/model_resnet50.ipynb\" target=\"_parent\"><img src=\"https://colab.research.google.com/assets/colab-badge.svg\" alt=\"Open In Colab\"/></a>"
      ]
    },
    {
      "cell_type": "code",
      "metadata": {
        "id": "T4J5Kea6MZUr"
      },
      "source": [
        "from tensorflow.keras.applications import ResNet50\n",
        "from keras.applications.vgg16 import preprocess_input as pi"
      ],
      "execution_count": null,
      "outputs": []
    },
    {
      "cell_type": "code",
      "metadata": {
        "id": "8wko1-IvMb0E"
      },
      "source": [
        "from keras.preprocessing.image import ImageDataGenerator\n",
        "import keras\n",
        "from keras.models import Sequential\n",
        "from keras.layers import Input, Dense\n",
        "from tensorflow.keras.applications import ResNet50\n",
        "from tensorflow.keras.applications.resnet50 import preprocess_input"
      ],
      "execution_count": null,
      "outputs": []
    },
    {
      "cell_type": "code",
      "metadata": {
        "id": "D2OJHs0mMp9H"
      },
      "source": [
        "import numpy as np\n",
        "import tensorflow as tf\n",
        "\n",
        "from tensorflow.keras import datasets, layers, models\n",
        "import matplotlib.pyplot as plt\n",
        "from tensorflow.keras.utils import normalize, to_categorical "
      ],
      "execution_count": null,
      "outputs": []
    },
    {
      "cell_type": "code",
      "metadata": {
        "id": "gRO8yExXMqiT"
      },
      "source": [
        "num_classes = 3\n",
        "image_resize_week4 = 224\n",
        "batch2_size_training = 32\n",
        "batch2_size_validation = 32"
      ],
      "execution_count": null,
      "outputs": []
    },
    {
      "cell_type": "code",
      "metadata": {
        "colab": {
          "base_uri": "https://localhost:8080/"
        },
        "id": "MYvSx2UGMqky",
        "outputId": "1979ee77-78cc-4eee-c83c-7220de440bed"
      },
      "source": [
        "from google.colab import drive\n",
        "drive.mount('/content/gdrive')"
      ],
      "execution_count": null,
      "outputs": [
        {
          "output_type": "stream",
          "name": "stdout",
          "text": [
            "Mounted at /content/gdrive\n"
          ]
        }
      ]
    },
    {
      "cell_type": "code",
      "metadata": {
        "id": "PcuX9JWqMqnN"
      },
      "source": [
        "X_train = np.load(\"/content/gdrive/MyDrive/covid_research/X_train.npy\").astype(np.uint8)\n",
        "Y_train = np.load(\"/content/gdrive/MyDrive/covid_research/Y_train.npy\").astype(np.uint8)\n",
        "X_test= np.load(\"/content/gdrive/MyDrive/covid_research/X_test.npy\")\n",
        "Y_test = np.load(\"/content/gdrive/MyDrive/covid_research/Y_test.npy\")"
      ],
      "execution_count": null,
      "outputs": []
    },
    {
      "cell_type": "code",
      "metadata": {
        "id": "BLujPMMBMqpP"
      },
      "source": [
        "Y_train = to_categorical(Y_train)\n",
        "Y_test = to_categorical(Y_test)"
      ],
      "execution_count": null,
      "outputs": []
    },
    {
      "cell_type": "code",
      "metadata": {
        "colab": {
          "base_uri": "https://localhost:8080/"
        },
        "id": "K-FRD-05Mp_n",
        "outputId": "10bd1f34-04ac-4bb3-ad9e-530b4a6296ed"
      },
      "source": [
        "print(Y_test)"
      ],
      "execution_count": null,
      "outputs": [
        {
          "output_type": "stream",
          "name": "stdout",
          "text": [
            "[[0. 0. 1.]\n",
            " [0. 0. 1.]\n",
            " [0. 0. 1.]\n",
            " ...\n",
            " [0. 0. 1.]\n",
            " [0. 0. 1.]\n",
            " [0. 0. 1.]]\n"
          ]
        }
      ]
    },
    {
      "cell_type": "code",
      "metadata": {
        "id": "7FoMiIUXM8Jg"
      },
      "source": [
        "model = Sequential()\n",
        "#model = tensorflow.keras.Sequential()"
      ],
      "execution_count": null,
      "outputs": []
    },
    {
      "cell_type": "code",
      "metadata": {
        "colab": {
          "base_uri": "https://localhost:8080/"
        },
        "id": "d-Tnu9CWM8Mg",
        "outputId": "bfa95476-7cde-4321-8a41-dce81c57bed5"
      },
      "source": [
        "model.add(ResNet50(\n",
        "    include_top=False,\n",
        "    pooling='avg',\n",
        "    weights='imagenet',\n",
        "    ))"
      ],
      "execution_count": null,
      "outputs": [
        {
          "output_type": "stream",
          "name": "stdout",
          "text": [
            "Downloading data from https://storage.googleapis.com/tensorflow/keras-applications/resnet/resnet50_weights_tf_dim_ordering_tf_kernels_notop.h5\n",
            "94773248/94765736 [==============================] - 1s 0us/step\n",
            "94781440/94765736 [==============================] - 1s 0us/step\n"
          ]
        }
      ]
    },
    {
      "cell_type": "code",
      "metadata": {
        "id": "irzktSGcM8Oz"
      },
      "source": [
        "model.add(Dense(num_classes, activation='softmax'))"
      ],
      "execution_count": null,
      "outputs": []
    },
    {
      "cell_type": "code",
      "metadata": {
        "colab": {
          "base_uri": "https://localhost:8080/"
        },
        "id": "Pb5C0rTiNGXk",
        "outputId": "929a93c1-b803-42b1-86fd-e34b65b2a0d9"
      },
      "source": [
        "model.layers"
      ],
      "execution_count": null,
      "outputs": [
        {
          "output_type": "execute_result",
          "data": {
            "text/plain": [
              "[<keras.engine.functional.Functional at 0x7f2c2c6ca950>,\n",
              " <keras.layers.core.Dense at 0x7f2c2bf75dd0>]"
            ]
          },
          "metadata": {},
          "execution_count": 14
        }
      ]
    },
    {
      "cell_type": "code",
      "metadata": {
        "colab": {
          "base_uri": "https://localhost:8080/"
        },
        "id": "DJXQK62DNGaU",
        "outputId": "50b85e4b-fa7c-4358-c1c0-67c4e0a955fb"
      },
      "source": [
        "model.layers[0].layers"
      ],
      "execution_count": null,
      "outputs": [
        {
          "output_type": "execute_result",
          "data": {
            "text/plain": [
              "[<keras.engine.input_layer.InputLayer at 0x7f2c30bbfdd0>,\n",
              " <keras.layers.convolutional.ZeroPadding2D at 0x7f2c303b0cd0>,\n",
              " <keras.layers.convolutional.Conv2D at 0x7f2c303d1e90>,\n",
              " <keras.layers.normalization.batch_normalization.BatchNormalization at 0x7f2c303baad0>,\n",
              " <keras.layers.core.Activation at 0x7f2c2c9aab90>,\n",
              " <keras.layers.convolutional.ZeroPadding2D at 0x7f2c2c969850>,\n",
              " <keras.layers.pooling.MaxPooling2D at 0x7f2c2c97ec90>,\n",
              " <keras.layers.convolutional.Conv2D at 0x7f2c2c987dd0>,\n",
              " <keras.layers.normalization.batch_normalization.BatchNormalization at 0x7f2c2c9164d0>,\n",
              " <keras.layers.core.Activation at 0x7f2c2c927410>,\n",
              " <keras.layers.convolutional.Conv2D at 0x7f2c2c927910>,\n",
              " <keras.layers.normalization.batch_normalization.BatchNormalization at 0x7f2c2c92c490>,\n",
              " <keras.layers.core.Activation at 0x7f2c2c92ca90>,\n",
              " <keras.layers.convolutional.Conv2D at 0x7f2c2c98a350>,\n",
              " <keras.layers.convolutional.Conv2D at 0x7f2c2c9f95d0>,\n",
              " <keras.layers.normalization.batch_normalization.BatchNormalization at 0x7f2c2c990150>,\n",
              " <keras.layers.normalization.batch_normalization.BatchNormalization at 0x7f2c2c9420d0>,\n",
              " <keras.layers.merge.Add at 0x7f2c2c948250>,\n",
              " <keras.layers.core.Activation at 0x7f2c2c945510>,\n",
              " <keras.layers.convolutional.Conv2D at 0x7f2c2c93c5d0>,\n",
              " <keras.layers.normalization.batch_normalization.BatchNormalization at 0x7f2c2c8d2e90>,\n",
              " <keras.layers.core.Activation at 0x7f2c2c8db310>,\n",
              " <keras.layers.convolutional.Conv2D at 0x7f2c2c937750>,\n",
              " <keras.layers.normalization.batch_normalization.BatchNormalization at 0x7f2c7ae3be10>,\n",
              " <keras.layers.core.Activation at 0x7f2c2c8f0150>,\n",
              " <keras.layers.convolutional.Conv2D at 0x7f2c2c8f09d0>,\n",
              " <keras.layers.normalization.batch_normalization.BatchNormalization at 0x7f2c2c9f96d0>,\n",
              " <keras.layers.merge.Add at 0x7f2c2c901110>,\n",
              " <keras.layers.core.Activation at 0x7f2c2c8e9e90>,\n",
              " <keras.layers.convolutional.Conv2D at 0x7f2c2c8fd650>,\n",
              " <keras.layers.normalization.batch_normalization.BatchNormalization at 0x7f2c2c90ed10>,\n",
              " <keras.layers.core.Activation at 0x7f2c2c89a450>,\n",
              " <keras.layers.convolutional.Conv2D at 0x7f2c2c8f9cd0>,\n",
              " <keras.layers.normalization.batch_normalization.BatchNormalization at 0x7f2c2c8fdc50>,\n",
              " <keras.layers.core.Activation at 0x7f2c2c942710>,\n",
              " <keras.layers.convolutional.Conv2D at 0x7f2c2c950590>,\n",
              " <keras.layers.normalization.batch_normalization.BatchNormalization at 0x7f2c2c948b50>,\n",
              " <keras.layers.merge.Add at 0x7f2c2c9166d0>,\n",
              " <keras.layers.core.Activation at 0x7f2c2c91d8d0>,\n",
              " <keras.layers.convolutional.Conv2D at 0x7f2c2c8a3190>,\n",
              " <keras.layers.normalization.batch_normalization.BatchNormalization at 0x7f2c2c898d10>,\n",
              " <keras.layers.core.Activation at 0x7f2c2c8a6090>,\n",
              " <keras.layers.convolutional.Conv2D at 0x7f2c2c8aa210>,\n",
              " <keras.layers.normalization.batch_normalization.BatchNormalization at 0x7f2c2c8a63d0>,\n",
              " <keras.layers.core.Activation at 0x7f2c2c8b3450>,\n",
              " <keras.layers.convolutional.Conv2D at 0x7f2c2c8de110>,\n",
              " <keras.layers.convolutional.Conv2D at 0x7f2c2c8b8450>,\n",
              " <keras.layers.normalization.batch_normalization.BatchNormalization at 0x7f2c2c97e410>,\n",
              " <keras.layers.normalization.batch_normalization.BatchNormalization at 0x7f2c2c8bc190>,\n",
              " <keras.layers.merge.Add at 0x7f2c2c8c13d0>,\n",
              " <keras.layers.core.Activation at 0x7f2c2c8af250>,\n",
              " <keras.layers.convolutional.Conv2D at 0x7f2c2c853190>,\n",
              " <keras.layers.normalization.batch_normalization.BatchNormalization at 0x7f2c2c8cbf50>,\n",
              " <keras.layers.core.Activation at 0x7f2c2c859050>,\n",
              " <keras.layers.convolutional.Conv2D at 0x7f2c2c85c1d0>,\n",
              " <keras.layers.normalization.batch_normalization.BatchNormalization at 0x7f2c2c860090>,\n",
              " <keras.layers.core.Activation at 0x7f2c303d18d0>,\n",
              " <keras.layers.convolutional.Conv2D at 0x7f2c2c8c9910>,\n",
              " <keras.layers.normalization.batch_normalization.BatchNormalization at 0x7f2c2c8731d0>,\n",
              " <keras.layers.merge.Add at 0x7f2c2c859110>,\n",
              " <keras.layers.core.Activation at 0x7f2c2c86bf90>,\n",
              " <keras.layers.convolutional.Conv2D at 0x7f2c2c882750>,\n",
              " <keras.layers.normalization.batch_normalization.BatchNormalization at 0x7f2c2c859450>,\n",
              " <keras.layers.core.Activation at 0x7f2c2c88aed0>,\n",
              " <keras.layers.convolutional.Conv2D at 0x7f2c2c8195d0>,\n",
              " <keras.layers.normalization.batch_normalization.BatchNormalization at 0x7f2c2c8909d0>,\n",
              " <keras.layers.core.Activation at 0x7f2c2c830910>,\n",
              " <keras.layers.convolutional.Conv2D at 0x7f2c2c830e50>,\n",
              " <keras.layers.normalization.batch_normalization.BatchNormalization at 0x7f2c2c819850>,\n",
              " <keras.layers.merge.Add at 0x7f2c2c8441d0>,\n",
              " <keras.layers.core.Activation at 0x7f2c2c844a10>,\n",
              " <keras.layers.convolutional.Conv2D at 0x7f2c2c835210>,\n",
              " <keras.layers.normalization.batch_normalization.BatchNormalization at 0x7f2c2c82ca50>,\n",
              " <keras.layers.core.Activation at 0x7f2c2c8825d0>,\n",
              " <keras.layers.convolutional.Conv2D at 0x7f2c2c87a050>,\n",
              " <keras.layers.normalization.batch_normalization.BatchNormalization at 0x7f2c2c873ed0>,\n",
              " <keras.layers.core.Activation at 0x7f2c2c8b31d0>,\n",
              " <keras.layers.convolutional.Conv2D at 0x7f2c2c8bc610>,\n",
              " <keras.layers.normalization.batch_normalization.BatchNormalization at 0x7f2c2c844c10>,\n",
              " <keras.layers.merge.Add at 0x7f2c2c8921d0>,\n",
              " <keras.layers.core.Activation at 0x7f2c2c8d8bd0>,\n",
              " <keras.layers.convolutional.Conv2D at 0x7f2c2c7d6210>,\n",
              " <keras.layers.normalization.batch_normalization.BatchNormalization at 0x7f2c2c7d1d50>,\n",
              " <keras.layers.core.Activation at 0x7f2c2c7df550>,\n",
              " <keras.layers.convolutional.Conv2D at 0x7f2c2c7df690>,\n",
              " <keras.layers.normalization.batch_normalization.BatchNormalization at 0x7f2c2c7db350>,\n",
              " <keras.layers.core.Activation at 0x7f2c2c7eb450>,\n",
              " <keras.layers.convolutional.Conv2D at 0x7f2c2c86e450>,\n",
              " <keras.layers.convolutional.Conv2D at 0x7f2c2c7eb950>,\n",
              " <keras.layers.normalization.batch_normalization.BatchNormalization at 0x7f2c2c850050>,\n",
              " <keras.layers.normalization.batch_normalization.BatchNormalization at 0x7f2c2c7f58d0>,\n",
              " <keras.layers.merge.Add at 0x7f2c2c7d1ad0>,\n",
              " <keras.layers.core.Activation at 0x7f2c2c7e60d0>,\n",
              " <keras.layers.convolutional.Conv2D at 0x7f2c2c804f10>,\n",
              " <keras.layers.normalization.batch_normalization.BatchNormalization at 0x7f2c2c8043d0>,\n",
              " <keras.layers.core.Activation at 0x7f2c2c8103d0>,\n",
              " <keras.layers.convolutional.Conv2D at 0x7f2c2c8108d0>,\n",
              " <keras.layers.normalization.batch_normalization.BatchNormalization at 0x7f2c2c7e6590>,\n",
              " <keras.layers.core.Activation at 0x7f2c2c810110>,\n",
              " <keras.layers.convolutional.Conv2D at 0x7f2c2c8096d0>,\n",
              " <keras.layers.normalization.batch_normalization.BatchNormalization at 0x7f2c2c7a5fd0>,\n",
              " <keras.layers.merge.Add at 0x7f2c2c79bd50>,\n",
              " <keras.layers.core.Activation at 0x7f2c2c7aba90>,\n",
              " <keras.layers.convolutional.Conv2D at 0x7f2c2c7bc590>,\n",
              " <keras.layers.normalization.batch_normalization.BatchNormalization at 0x7f2c2c7bcf10>,\n",
              " <keras.layers.core.Activation at 0x7f2c2c7aba50>,\n",
              " <keras.layers.convolutional.Conv2D at 0x7f2c2c7c2390>,\n",
              " <keras.layers.normalization.batch_normalization.BatchNormalization at 0x7f2c2c7cf710>,\n",
              " <keras.layers.core.Activation at 0x7f2c2c809750>,\n",
              " <keras.layers.convolutional.Conv2D at 0x7f2c2c754390>,\n",
              " <keras.layers.normalization.batch_normalization.BatchNormalization at 0x7f2c2c75f250>,\n",
              " <keras.layers.merge.Add at 0x7f2c2c7ca550>,\n",
              " <keras.layers.core.Activation at 0x7f2c2c759a50>,\n",
              " <keras.layers.convolutional.Conv2D at 0x7f2c2c7a50d0>,\n",
              " <keras.layers.normalization.batch_normalization.BatchNormalization at 0x7f2c2c797f10>,\n",
              " <keras.layers.core.Activation at 0x7f2c2c7af390>,\n",
              " <keras.layers.convolutional.Conv2D at 0x7f2c2c7c47d0>,\n",
              " <keras.layers.normalization.batch_normalization.BatchNormalization at 0x7f2c2c7d6050>,\n",
              " <keras.layers.core.Activation at 0x7f2c2c7e2bd0>,\n",
              " <keras.layers.convolutional.Conv2D at 0x7f2c2c7f5610>,\n",
              " <keras.layers.normalization.batch_normalization.BatchNormalization at 0x7f2c2c828690>,\n",
              " <keras.layers.merge.Add at 0x7f2c2c890e10>,\n",
              " <keras.layers.core.Activation at 0x7f2c2c814b90>,\n",
              " <keras.layers.convolutional.Conv2D at 0x7f2c2c768490>,\n",
              " <keras.layers.normalization.batch_normalization.BatchNormalization at 0x7f2c2c76a750>,\n",
              " <keras.layers.core.Activation at 0x7f2c2c76a410>,\n",
              " <keras.layers.convolutional.Conv2D at 0x7f2c2c76c410>,\n",
              " <keras.layers.normalization.batch_normalization.BatchNormalization at 0x7f2c2c773bd0>,\n",
              " <keras.layers.core.Activation at 0x7f2c2c77a050>,\n",
              " <keras.layers.convolutional.Conv2D at 0x7f2c2c775250>,\n",
              " <keras.layers.normalization.batch_normalization.BatchNormalization at 0x7f2c2c783850>,\n",
              " <keras.layers.merge.Add at 0x7f2c2c711050>,\n",
              " <keras.layers.core.Activation at 0x7f2c2c780a50>,\n",
              " <keras.layers.convolutional.Conv2D at 0x7f2c2c71a3d0>,\n",
              " <keras.layers.normalization.batch_normalization.BatchNormalization at 0x7f2c2c71f690>,\n",
              " <keras.layers.core.Activation at 0x7f2c2c78a350>,\n",
              " <keras.layers.convolutional.Conv2D at 0x7f2c2c71fb10>,\n",
              " <keras.layers.normalization.batch_normalization.BatchNormalization at 0x7f2c2c72cb10>,\n",
              " <keras.layers.core.Activation at 0x7f2c2c7352d0>,\n",
              " <keras.layers.convolutional.Conv2D at 0x7f2c2c735ed0>,\n",
              " <keras.layers.normalization.batch_normalization.BatchNormalization at 0x7f2c2c73f790>,\n",
              " <keras.layers.merge.Add at 0x7f2c2c749090>,\n",
              " <keras.layers.core.Activation at 0x7f2c2c749510>,\n",
              " <keras.layers.convolutional.Conv2D at 0x7f2c2c6de710>,\n",
              " <keras.layers.normalization.batch_normalization.BatchNormalization at 0x7f2c2c6d45d0>,\n",
              " <keras.layers.core.Activation at 0x7f2c2c6eec10>,\n",
              " <keras.layers.convolutional.Conv2D at 0x7f2c2c6eee50>,\n",
              " <keras.layers.normalization.batch_normalization.BatchNormalization at 0x7f2c2c6eb9d0>,\n",
              " <keras.layers.core.Activation at 0x7f2c2c703250>,\n",
              " <keras.layers.convolutional.Conv2D at 0x7f2c2c6d42d0>,\n",
              " <keras.layers.convolutional.Conv2D at 0x7f2c2c703750>,\n",
              " <keras.layers.normalization.batch_normalization.BatchNormalization at 0x7f2c2c6d7590>,\n",
              " <keras.layers.normalization.batch_normalization.BatchNormalization at 0x7f2c2c6ebed0>,\n",
              " <keras.layers.merge.Add at 0x7f2c2c74d210>,\n",
              " <keras.layers.core.Activation at 0x7f2c2c73f910>,\n",
              " <keras.layers.convolutional.Conv2D at 0x7f2c2c6fe9d0>,\n",
              " <keras.layers.normalization.batch_normalization.BatchNormalization at 0x7f2c2c71a6d0>,\n",
              " <keras.layers.core.Activation at 0x7f2c2c711ad0>,\n",
              " <keras.layers.convolutional.Conv2D at 0x7f2c2c714f50>,\n",
              " <keras.layers.normalization.batch_normalization.BatchNormalization at 0x7f2c2c780410>,\n",
              " <keras.layers.core.Activation at 0x7f2c2c97b410>,\n",
              " <keras.layers.convolutional.Conv2D at 0x7f2c2c853b90>,\n",
              " <keras.layers.normalization.batch_normalization.BatchNormalization at 0x7f2c2c9907d0>,\n",
              " <keras.layers.merge.Add at 0x7f2c2c710110>,\n",
              " <keras.layers.core.Activation at 0x7f2c2c710a50>,\n",
              " <keras.layers.convolutional.Conv2D at 0x7f2c2c86e290>,\n",
              " <keras.layers.normalization.batch_normalization.BatchNormalization at 0x7f2c2c6960d0>,\n",
              " <keras.layers.core.Activation at 0x7f2c2c69d2d0>,\n",
              " <keras.layers.convolutional.Conv2D at 0x7f2c2c691810>,\n",
              " <keras.layers.normalization.batch_normalization.BatchNormalization at 0x7f2c2c6a4550>,\n",
              " <keras.layers.core.Activation at 0x7f2c2c6a4b50>,\n",
              " <keras.layers.convolutional.Conv2D at 0x7f2c2c6ae8d0>,\n",
              " <keras.layers.normalization.batch_normalization.BatchNormalization at 0x7f2c2c6b7190>,\n",
              " <keras.layers.merge.Add at 0x7f2c2c6b9050>,\n",
              " <keras.layers.core.Activation at 0x7f2c2c6b9950>,\n",
              " <keras.layers.pooling.GlobalAveragePooling2D at 0x7f2c2c6eb1d0>]"
            ]
          },
          "metadata": {},
          "execution_count": 15
        }
      ]
    },
    {
      "cell_type": "code",
      "metadata": {
        "id": "B1fALKCrNPNh"
      },
      "source": [
        "model.layers[0].trainable = False"
      ],
      "execution_count": null,
      "outputs": []
    },
    {
      "cell_type": "code",
      "metadata": {
        "colab": {
          "base_uri": "https://localhost:8080/"
        },
        "id": "mQBefGh-NPQI",
        "outputId": "3a742431-34c0-49a9-d583-aef3726d7e2c"
      },
      "source": [
        "model.summary()"
      ],
      "execution_count": null,
      "outputs": [
        {
          "output_type": "stream",
          "name": "stdout",
          "text": [
            "Model: \"sequential\"\n",
            "_________________________________________________________________\n",
            "Layer (type)                 Output Shape              Param #   \n",
            "=================================================================\n",
            "resnet50 (Functional)        (None, 2048)              23587712  \n",
            "_________________________________________________________________\n",
            "dense (Dense)                (None, 3)                 6147      \n",
            "=================================================================\n",
            "Total params: 23,593,859\n",
            "Trainable params: 6,147\n",
            "Non-trainable params: 23,587,712\n",
            "_________________________________________________________________\n"
          ]
        }
      ]
    },
    {
      "cell_type": "code",
      "metadata": {
        "id": "js8OlPkTNZUH"
      },
      "source": [
        "model.compile(optimizer='adam', loss='categorical_crossentropy', metrics=['accuracy'])"
      ],
      "execution_count": null,
      "outputs": []
    },
    {
      "cell_type": "code",
      "metadata": {
        "colab": {
          "base_uri": "https://localhost:8080/"
        },
        "id": "OceSUw6xNZWv",
        "outputId": "5f63fdd7-cc3d-4496-c8a3-02e035ec5728"
      },
      "source": [
        "fit_history = model.fit(X_train, Y_train, epochs=10, \n",
        "                    validation_data=(X_test, Y_test), batch_size=10)"
      ],
      "execution_count": null,
      "outputs": [
        {
          "output_type": "stream",
          "name": "stdout",
          "text": [
            "Epoch 1/10\n",
            "1001/1001 [==============================] - 70s 67ms/step - loss: 0.0029 - accuracy: 0.9989 - val_loss: 2.3153e-06 - val_accuracy: 1.0000\n",
            "Epoch 2/10\n",
            "1001/1001 [==============================] - 69s 69ms/step - loss: 6.4780e-06 - accuracy: 1.0000 - val_loss: 1.1986e-06 - val_accuracy: 1.0000\n",
            "Epoch 3/10\n",
            "1001/1001 [==============================] - 70s 70ms/step - loss: 3.3556e-06 - accuracy: 1.0000 - val_loss: 6.9559e-07 - val_accuracy: 1.0000\n",
            "Epoch 4/10\n",
            "1001/1001 [==============================] - 70s 70ms/step - loss: 1.8660e-06 - accuracy: 1.0000 - val_loss: 4.1142e-07 - val_accuracy: 1.0000\n",
            "Epoch 5/10\n",
            "1001/1001 [==============================] - 69s 69ms/step - loss: 1.0910e-06 - accuracy: 1.0000 - val_loss: 2.5099e-07 - val_accuracy: 1.0000\n",
            "Epoch 6/10\n",
            "1001/1001 [==============================] - 68s 68ms/step - loss: 6.4482e-07 - accuracy: 1.0000 - val_loss: 1.5448e-07 - val_accuracy: 1.0000\n",
            "Epoch 7/10\n",
            "1001/1001 [==============================] - 67s 67ms/step - loss: 3.8947e-07 - accuracy: 1.0000 - val_loss: 9.7107e-08 - val_accuracy: 1.0000\n",
            "Epoch 8/10\n",
            "1001/1001 [==============================] - 67s 67ms/step - loss: 2.3665e-07 - accuracy: 1.0000 - val_loss: 5.9217e-08 - val_accuracy: 1.0000\n",
            "Epoch 9/10\n",
            "1001/1001 [==============================] - 66s 66ms/step - loss: 1.4312e-07 - accuracy: 1.0000 - val_loss: 3.6043e-08 - val_accuracy: 1.0000\n",
            "Epoch 10/10\n",
            "1001/1001 [==============================] - 67s 67ms/step - loss: 8.7597e-08 - accuracy: 1.0000 - val_loss: 2.2460e-08 - val_accuracy: 1.0000\n"
          ]
        }
      ]
    },
    {
      "cell_type": "code",
      "metadata": {
        "colab": {
          "base_uri": "https://localhost:8080/"
        },
        "id": "U64ShU85NZZZ",
        "outputId": "36185c1f-e632-4a58-9be3-41101d42859f"
      },
      "source": [
        "model.save('classifier_vgg16_model.h5')"
      ],
      "execution_count": null,
      "outputs": [
        {
          "output_type": "stream",
          "name": "stderr",
          "text": [
            "/usr/local/lib/python3.7/dist-packages/keras/utils/generic_utils.py:497: CustomMaskWarning: Custom mask layers require a config and must override get_config. When loading, the custom mask layer must be passed to the custom_objects argument.\n",
            "  category=CustomMaskWarning)\n"
          ]
        }
      ]
    },
    {
      "cell_type": "markdown",
      "metadata": {
        "id": "pj2oQGn-RC7b"
      },
      "source": [
        "**Evaluating the model**"
      ]
    },
    {
      "cell_type": "code",
      "metadata": {
        "colab": {
          "base_uri": "https://localhost:8080/"
        },
        "id": "S_1boH6GP994",
        "outputId": "a38fe49a-1ada-48a7-a591-99f59518e16e"
      },
      "source": [
        "train_loss, train_acc = model.evaluate_generator(X_train, steps=16)"
      ],
      "execution_count": null,
      "outputs": [
        {
          "output_type": "stream",
          "name": "stderr",
          "text": [
            "/usr/local/lib/python3.7/dist-packages/keras/engine/training.py:2006: UserWarning: `Model.evaluate_generator` is deprecated and will be removed in a future version. Please use `Model.evaluate`, which supports generators.\n",
            "  warnings.warn('`Model.evaluate_generator` is deprecated and '\n"
          ]
        }
      ]
    },
    {
      "cell_type": "code",
      "metadata": {
        "colab": {
          "base_uri": "https://localhost:8080/"
        },
        "id": "9oBrw5dWP-Ac",
        "outputId": "88634300-7053-4c32-82af-7649aeba6322"
      },
      "source": [
        "test_loss, test_acc = model.evaluate(X_test, steps=16)"
      ],
      "execution_count": null,
      "outputs": [
        {
          "output_type": "stream",
          "name": "stdout",
          "text": [
            "16/16 [==============================] - 0s 3ms/step - loss: 0.0000e+00 - accuracy: 0.0000e+00\n"
          ]
        }
      ]
    },
    {
      "cell_type": "code",
      "metadata": {
        "colab": {
          "base_uri": "https://localhost:8080/"
        },
        "id": "X5jJx7fjP-DQ",
        "outputId": "03176ef8-684c-450e-faf5-2a102d5acab5"
      },
      "source": [
        "print(\"Train: %.3f, Test: %.3f\" % (train_acc, test_acc))"
      ],
      "execution_count": null,
      "outputs": [
        {
          "output_type": "stream",
          "name": "stdout",
          "text": [
            "Train: 0.000, Test: 0.000\n"
          ]
        }
      ]
    },
    {
      "cell_type": "markdown",
      "metadata": {
        "id": "8mGJHaCvRJKi"
      },
      "source": [
        "**Plot training history**"
      ]
    },
    {
      "cell_type": "code",
      "metadata": {
        "colab": {
          "base_uri": "https://localhost:8080/"
        },
        "id": "hn5ShZuZMb2p",
        "outputId": "1f3fd00d-ba80-4cbd-a50a-58d0f96de1ed"
      },
      "source": [
        "from matplotlib import pyplot as pyplot\n",
        "print(\"Values stored in history are...\\n\", fit_history.history)"
      ],
      "execution_count": null,
      "outputs": [
        {
          "output_type": "stream",
          "name": "stdout",
          "text": [
            "Values stored in history are...\n",
            " {'loss': [0.002909336006268859, 6.477985152741894e-06, 3.3556179914739914e-06, 1.8660240357348812e-06, 1.0910479204540025e-06, 6.448205454034905e-07, 3.8946532754380314e-07, 2.3664682657908997e-07, 1.4311733309568808e-07, 8.759703717942102e-08], 'accuracy': [0.9989001154899597, 1.0, 1.0, 1.0, 1.0, 1.0, 1.0, 1.0, 1.0, 1.0], 'val_loss': [2.315327037649695e-06, 1.198557356474339e-06, 6.955862090762821e-07, 4.1142035911434505e-07, 2.509875400846795e-07, 1.5447709245108854e-07, 9.710681325714177e-08, 5.9217327930127794e-08, 3.604275278235036e-08, 2.245970875947023e-08], 'val_accuracy': [1.0, 1.0, 1.0, 1.0, 1.0, 1.0, 1.0, 1.0, 1.0, 1.0]}\n"
          ]
        }
      ]
    },
    {
      "cell_type": "code",
      "metadata": {
        "colab": {
          "base_uri": "https://localhost:8080/",
          "height": 266
        },
        "id": "ltxeDtCVR4Tn",
        "outputId": "27fecfd3-5066-4f76-dec2-362523e13eba"
      },
      "source": [
        "plt.plot(fit_history.history['loss'], label='train')\n",
        "plt.plot(fit_history.history['val_loss'], label='test')\n",
        "plt.legend()\n",
        "plt.show()"
      ],
      "execution_count": null,
      "outputs": [
        {
          "output_type": "display_data",
          "data": {
            "image/png": "[encoded data removed]",
            "text/plain": [
              "<Figure size 432x288 with 1 Axes>"
            ]
          },
          "metadata": {
            "needs_background": "light"
          }
        }
      ]
    },
    {
      "cell_type": "code",
      "metadata": {
        "id": "fYnWuCJaR4WA"
      },
      "source": [
        "from keras.models import load_model"
      ],
      "execution_count": null,
      "outputs": []
    },
    {
      "cell_type": "code",
      "metadata": {
        "id": "PMNV2YNdTNLS"
      },
      "source": [
        "pretrained_model_2 = load_model('classifier_vgg16_model.h5')"
      ],
      "execution_count": null,
      "outputs": []
    },
    {
      "cell_type": "code",
      "metadata": {
        "id": "kAVdd2_cTNNW"
      },
      "source": [
        "steps_per_epoch_test_2 = int(len(X_test)/ 64)"
      ],
      "execution_count": null,
      "outputs": []
    },
    {
      "cell_type": "code",
      "metadata": {
        "colab": {
          "base_uri": "https://localhost:8080/"
        },
        "id": "xFeh8ydLTTNc",
        "outputId": "e0db456a-9504-4952-99b6-0466ca312070"
      },
      "source": [
        "score_2 = pretrained_model_2.evaluate_generator(X_test, steps=steps_per_epoch_test_2)"
      ],
      "execution_count": null,
      "outputs": [
        {
          "output_type": "stream",
          "name": "stderr",
          "text": [
            "/usr/local/lib/python3.7/dist-packages/keras/engine/training.py:2006: UserWarning: `Model.evaluate_generator` is deprecated and will be removed in a future version. Please use `Model.evaluate`, which supports generators.\n",
            "  warnings.warn('`Model.evaluate_generator` is deprecated and '\n"
          ]
        }
      ]
    },
    {
      "cell_type": "code",
      "metadata": {
        "colab": {
          "base_uri": "https://localhost:8080/"
        },
        "id": "uKPx6Gx_TTP_",
        "outputId": "b6474e98-c1b4-4848-d64f-dff08101c0e2"
      },
      "source": [
        "print('Accuracy of ResNet50: {}% \\n Error: {}'.format(score_2[1], 1 - score_2[1]))"
      ],
      "execution_count": null,
      "outputs": [
        {
          "output_type": "stream",
          "name": "stdout",
          "text": [
            "Accuracy of ResNet50: 0.0% \n",
            " Error: 1.0\n"
          ]
        }
      ]
    },
    {
      "cell_type": "code",
      "metadata": {
        "id": "qi1phgiCTTR_"
      },
      "source": [
        "import numpy as np"
      ],
      "execution_count": null,
      "outputs": []
    },
    {
      "cell_type": "code",
      "metadata": {
        "colab": {
          "base_uri": "https://localhost:8080/"
        },
        "id": "UDhhZfARTa7s",
        "outputId": "9ceac042-95af-4965-87d3-da3e2c5f76e3"
      },
      "source": [
        "predict2 = pretrained_model_2.predict_generator(X_test, steps=steps_per_epoch_test_2)"
      ],
      "execution_count": null,
      "outputs": [
        {
          "output_type": "stream",
          "name": "stderr",
          "text": [
            "/usr/local/lib/python3.7/dist-packages/keras/engine/training.py:2035: UserWarning: `Model.predict_generator` is deprecated and will be removed in a future version. Please use `Model.predict`, which supports generators.\n",
            "  warnings.warn('`Model.predict_generator` is deprecated and '\n"
          ]
        }
      ]
    },
    {
      "cell_type": "code",
      "metadata": {
        "id": "dQJEo78lTa97"
      },
      "source": [
        "class_names= ['0', '1', '2']"
      ],
      "execution_count": null,
      "outputs": []
    },
    {
      "cell_type": "code",
      "metadata": {
        "id": "Ig_TJqQZTjmh"
      },
      "source": [
        "label2index = {0:0, 1:1, 2:2}"
      ],
      "execution_count": null,
      "outputs": []
    },
    {
      "cell_type": "code",
      "metadata": {
        "colab": {
          "base_uri": "https://localhost:8080/"
        },
        "id": "FaWcepxZTjox",
        "outputId": "2ba7dd8f-f7ca-420a-8fd4-758407a3b2c3"
      },
      "source": [
        "list_of_label = list(label2index.keys())\n",
        "print(\"The list of classes: \", list_of_label)"
      ],
      "execution_count": null,
      "outputs": [
        {
          "output_type": "stream",
          "name": "stdout",
          "text": [
            "The list of classes:  [0, 1, 2]\n"
          ]
        }
      ]
    },
    {
      "cell_type": "code",
      "metadata": {
        "colab": {
          "base_uri": "https://localhost:8080/"
        },
        "id": "rms1ZWh0R47S",
        "outputId": "1457c633-ff5a-4ccf-982e-6984ea659fca"
      },
      "source": [
        "print(\"ResNet50 Predictions :\")\n",
        "for i in range(0, 10):\n",
        "    pred_class = np.argmax(predict2[i])\n",
        "    pred_label = list_of_label[pred_class]\n",
        "    print('Prediction :{}'.format(\n",
        "        pred_label,\n",
        "        predict2[i][pred_class]))\n",
        "    # img = Image.open(predict2[i])\n",
        "    # img.show()"
      ],
      "execution_count": null,
      "outputs": [
        {
          "output_type": "stream",
          "name": "stdout",
          "text": [
            "ResNet50 Predictions :\n",
            "Prediction :2\n",
            "Prediction :2\n",
            "Prediction :2\n",
            "Prediction :2\n",
            "Prediction :2\n",
            "Prediction :2\n",
            "Prediction :2\n",
            "Prediction :2\n",
            "Prediction :2\n",
            "Prediction :2\n"
          ]
        }
      ]
    }
  ]
}